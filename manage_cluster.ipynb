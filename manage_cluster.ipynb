{
 "cells": [
  {
   "cell_type": "markdown",
   "metadata": {
    "editable": true
   },
   "source": [
    "# Manage Redshift Cluster\n",
    "\n",
    "This notebook contains code snippets for creating and tearing down a Redshift cluster for the project."
   ]
  },
  {
   "cell_type": "code",
   "execution_count": 1,
   "metadata": {
    "editable": true
   },
   "outputs": [],
   "source": [
    "import os\n",
    "import time\n",
    "from configparser import ConfigParser\n",
    "import json\n",
    "import boto3\n",
    "from botocore.exceptions import ClientError\n",
    "import pandas as pd"
   ]
  },
  {
   "cell_type": "code",
   "execution_count": 2,
   "metadata": {
    "editable": true
   },
   "outputs": [],
   "source": [
    "user = ConfigParser()\n",
    "user.read('user.cfg')\n",
    "ACCESS_KEY = user.get('AWS_USER', 'AWS_ACCESS_KEY_ID')\n",
    "SECRET = user.get('AWS_USER', 'AWS_SECRET_ACCESS_KEY')"
   ]
  },
  {
   "cell_type": "code",
   "execution_count": 7,
   "metadata": {
    "editable": true
   },
   "outputs": [
    {
     "data": {
      "text/plain": [
       "['dwh.cfg']"
      ]
     },
     "execution_count": 7,
     "metadata": {},
     "output_type": "execute_result"
    }
   ],
   "source": [
    "config = ConfigParser()\n",
    "config.optionxform = lambda x: x.upper() # Keep keys uppercase\n",
    "config.read('dwh.cfg')"
   ]
  },
  {
   "cell_type": "markdown",
   "metadata": {
    "editable": true
   },
   "source": [
    "## Create Cluster"
   ]
  },
  {
   "cell_type": "code",
   "execution_count": 8,
   "metadata": {
    "editable": true
   },
   "outputs": [],
   "source": [
    "redshift = boto3.client(\n",
    "    'redshift', \n",
    "    region_name='us-west-2', \n",
    "    aws_access_key_id=ACCESS_KEY,\n",
    "    aws_secret_access_key=SECRET,\n",
    ")"
   ]
  },
  {
   "cell_type": "code",
   "execution_count": 9,
   "metadata": {
    "editable": true
   },
   "outputs": [],
   "source": [
    "response = redshift.create_cluster(\n",
    "    ClusterIdentifier=config.get('CLUSTER', 'CLUSTER_ID'),\n",
    "    ClusterType=config.get('CLUSTER', 'CLUSTER_TYPE'),\n",
    "    NodeType=config.get('CLUSTER', 'NODE_TYPE'),\n",
    "    NumberOfNodes=int(config.get('CLUSTER', 'NUMBER_OF_NODES')),\n",
    "    DBName=config.get('CLUSTER', 'DB_NAME'),\n",
    "    Port=int(config.get('CLUSTER', 'DB_PORT')),\n",
    "    MasterUsername=config.get('CLUSTER', 'DB_USER'),\n",
    "    MasterUserPassword=config.get('CLUSTER', 'DB_PASSWORD'),\n",
    "    IamRoles=[config.get('IAM_ROLE', 'ARN')],\n",
    ")"
   ]
  },
  {
   "cell_type": "code",
   "execution_count": 10,
   "metadata": {
    "editable": true
   },
   "outputs": [],
   "source": [
    "cluster = response['Cluster']"
   ]
  },
  {
   "cell_type": "code",
   "execution_count": 11,
   "metadata": {
    "editable": true
   },
   "outputs": [
    {
     "name": "stdout",
     "output_type": "stream",
     "text": [
      "ClusterStatus after 5 tries: available\r"
     ]
    }
   ],
   "source": [
    "# Poll for cluster status every ~30 sec\n",
    "counter = 0\n",
    "while cluster['ClusterStatus'] != 'available':\n",
    "    time.sleep(30)\n",
    "    counter += 1 \n",
    "    cluster = (\n",
    "        redshift\n",
    "        .describe_clusters(ClusterIdentifier=config.get('CLUSTER', 'CLUSTER_ID'))\n",
    "        ['Clusters'][0]\n",
    "    )\n",
    "    print(f'ClusterStatus after {counter} tries: {cluster[\"ClusterStatus\"]}', end='\\r')                "
   ]
  },
  {
   "cell_type": "markdown",
   "metadata": {
    "editable": true
   },
   "source": [
    "## Save Connection Details"
   ]
  },
  {
   "cell_type": "code",
   "execution_count": 12,
   "metadata": {
    "editable": true
   },
   "outputs": [],
   "source": [
    "DWH_ENDPOINT = cluster['Endpoint']['Address']\n",
    "DWH_PORT = config.get('CLUSTER', 'DB_PORT')\n",
    "DB_NAME = config.get('CLUSTER', 'DB_NAME')\n",
    "DB_USER = config.get('CLUSTER', 'DB_USER')\n",
    "DB_PASSWORD = config.get('CLUSTER', 'DB_PASSWORD')\n",
    "CONNECTION = f'postgres://{DB_USER}:{DB_PASSWORD}@{DWH_ENDPOINT}:{DWH_PORT}/{DB_NAME}'"
   ]
  },
  {
   "cell_type": "code",
   "execution_count": 13,
   "metadata": {},
   "outputs": [],
   "source": [
    "# Set HOST in dwh.cfg for later use\n",
    "config.set('CLUSTER', 'HOST', DWH_ENDPOINT)\n",
    "with open('dwh.cfg', 'w') as f:\n",
    "    config.write(f, space_around_delimiters=False)"
   ]
  },
  {
   "cell_type": "markdown",
   "metadata": {
    "editable": true
   },
   "source": [
    "## Delete Cluster"
   ]
  },
  {
   "cell_type": "code",
   "execution_count": 22,
   "metadata": {
    "editable": true
   },
   "outputs": [
    {
     "data": {
      "text/plain": [
       "{'Cluster': {'ClusterIdentifier': 'dend-1',\n",
       "  'NodeType': 'dc2.large',\n",
       "  'ClusterStatus': 'deleting',\n",
       "  'ClusterAvailabilityStatus': 'Modifying',\n",
       "  'MasterUsername': 'awsuser',\n",
       "  'DBName': 'dend-dwh-project',\n",
       "  'Endpoint': {'Address': 'dend-1.cgepvlalvgqs.us-west-2.redshift.amazonaws.com',\n",
       "   'Port': 5439},\n",
       "  'ClusterCreateTime': datetime.datetime(2020, 10, 11, 18, 43, 58, 716000, tzinfo=tzutc()),\n",
       "  'AutomatedSnapshotRetentionPeriod': 1,\n",
       "  'ManualSnapshotRetentionPeriod': -1,\n",
       "  'ClusterSecurityGroups': [],\n",
       "  'VpcSecurityGroups': [{'VpcSecurityGroupId': 'sg-513e617c',\n",
       "    'Status': 'active'}],\n",
       "  'ClusterParameterGroups': [{'ParameterGroupName': 'default.redshift-1.0',\n",
       "    'ParameterApplyStatus': 'in-sync'}],\n",
       "  'ClusterSubnetGroupName': 'default',\n",
       "  'VpcId': 'vpc-bd0449c5',\n",
       "  'AvailabilityZone': 'us-west-2c',\n",
       "  'PreferredMaintenanceWindow': 'wed:11:30-wed:12:00',\n",
       "  'PendingModifiedValues': {},\n",
       "  'ClusterVersion': '1.0',\n",
       "  'AllowVersionUpgrade': True,\n",
       "  'NumberOfNodes': 4,\n",
       "  'PubliclyAccessible': True,\n",
       "  'Encrypted': False,\n",
       "  'Tags': [],\n",
       "  'EnhancedVpcRouting': False,\n",
       "  'IamRoles': [{'IamRoleArn': 'arn:aws:iam::826398276231:role/dwhRole',\n",
       "    'ApplyStatus': 'in-sync'}],\n",
       "  'MaintenanceTrackName': 'current',\n",
       "  'DeferredMaintenanceWindows': [],\n",
       "  'NextMaintenanceWindowStartTime': datetime.datetime(2020, 10, 14, 11, 30, tzinfo=tzutc())},\n",
       " 'ResponseMetadata': {'RequestId': '28719430-6df4-4a00-a22f-5764688ac3e0',\n",
       "  'HTTPStatusCode': 200,\n",
       "  'HTTPHeaders': {'x-amzn-requestid': '28719430-6df4-4a00-a22f-5764688ac3e0',\n",
       "   'content-type': 'text/xml',\n",
       "   'content-length': '2387',\n",
       "   'vary': 'accept-encoding',\n",
       "   'date': 'Sun, 11 Oct 2020 20:21:49 GMT'},\n",
       "  'RetryAttempts': 0}}"
      ]
     },
     "execution_count": 22,
     "metadata": {},
     "output_type": "execute_result"
    }
   ],
   "source": [
    "r = redshift.delete_cluster(\n",
    "    ClusterIdentifier=config.get('CLUSTER', 'CLUSTER_ID'), \n",
    "    SkipFinalClusterSnapshot=True\n",
    ")\n",
    "r['Cluster']['ClusterStatus']"
   ]
  },
  {
   "cell_type": "code",
   "execution_count": 23,
   "metadata": {
    "editable": true
   },
   "outputs": [],
   "source": [
    "# Unset HOST in config\n",
    "config.set('CLUSTER', 'HOST', '')\n",
    "with open('dwh.cfg', 'w') as f:\n",
    "    config.write(f, space_around_delimiters=False)"
   ]
  }
 ],
 "metadata": {
  "kernelspec": {
   "display_name": "Python 3.8.3 64-bit ('env')",
   "language": "python",
   "name": "python38364bitenve5a8253f59ac40b0a847287fb3670559"
  },
  "language_info": {
   "codemirror_mode": {
    "name": "ipython",
    "version": 3
   },
   "file_extension": ".py",
   "mimetype": "text/x-python",
   "name": "python",
   "nbconvert_exporter": "python",
   "pygments_lexer": "ipython3",
   "version": "3.8.3"
  }
 },
 "nbformat": 4,
 "nbformat_minor": 4
}
