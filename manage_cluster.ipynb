{
 "cells": [
  {
   "cell_type": "markdown",
   "metadata": {
    "editable": true
   },
   "source": [
    "# Manage Redshift Cluster\n",
    "\n",
    "This notebook contains code snippets for creating and tearing down a Redshift cluster for the project."
   ]
  },
  {
   "cell_type": "code",
   "execution_count": 73,
   "metadata": {
    "editable": true
   },
   "outputs": [],
   "source": [
    "import os\n",
    "import time\n",
    "from configparser import ConfigParser\n",
    "import json\n",
    "import boto3\n",
    "from botocore.exceptions import ClientError\n",
    "import pandas as pd"
   ]
  },
  {
   "cell_type": "code",
   "execution_count": 66,
   "metadata": {
    "editable": true
   },
   "outputs": [],
   "source": [
    "user = ConfigParser()\n",
    "user.read('user.cfg')\n",
    "ACCESS_KEY = user.get('AWS_USER', 'AWS_ACCESS_KEY_ID')\n",
    "SECRET = user.get('AWS_USER', 'AWS_SECRET_ACCESS_KEY')"
   ]
  },
  {
   "cell_type": "code",
   "execution_count": 67,
   "metadata": {
    "editable": true
   },
   "outputs": [
    {
     "data": {
      "text/plain": [
       "['dwh.cfg']"
      ]
     },
     "execution_count": 67,
     "metadata": {},
     "output_type": "execute_result"
    }
   ],
   "source": [
    "config = ConfigParser()\n",
    "config.read('dwh.cfg')"
   ]
  },
  {
   "cell_type": "markdown",
   "metadata": {
    "editable": true
   },
   "source": [
    "## Create Cluster"
   ]
  },
  {
   "cell_type": "code",
   "execution_count": 19,
   "metadata": {
    "editable": true
   },
   "outputs": [],
   "source": [
    "redshift = boto3.client(\n",
    "    'redshift', \n",
    "    region_name='us-west-2', \n",
    "    aws_access_key_id=ACCESS_KEY,\n",
    "    aws_secret_access_key=SECRET,\n",
    ")"
   ]
  },
  {
   "cell_type": "code",
   "execution_count": 20,
   "metadata": {
    "editable": true
   },
   "outputs": [],
   "source": [
    "response = redshift.create_cluster(\n",
    "    ClusterIdentifier=config.get('CLUSTER', 'CLUSTER_ID'),\n",
    "    ClusterType=config.get('CLUSTER', 'CLUSTER_TYPE'),\n",
    "    NodeType=config.get('CLUSTER', 'NODE_TYPE'),\n",
    "    NumberOfNodes=int(config.get('CLUSTER', 'NUMBER_OF_NODES')),\n",
    "    DBName=config.get('CLUSTER', 'DB_NAME'),\n",
    "    Port=int(config.get('CLUSTER', 'DB_PORT')),\n",
    "    MasterUsername=config.get('CLUSTER', 'DB_USER'),\n",
    "    MasterUserPassword=config.get('CLUSTER', 'DB_PASSWORD'),\n",
    "    IamRoles=[config.get('IAM_ROLE', 'ARN')],\n",
    ")"
   ]
  },
  {
   "cell_type": "code",
   "execution_count": 35,
   "metadata": {
    "editable": true
   },
   "outputs": [],
   "source": [
    "cluster = response['Cluster']"
   ]
  },
  {
   "cell_type": "code",
   "execution_count": 38,
   "metadata": {
    "editable": true
   },
   "outputs": [
    {
     "name": "stdout",
     "output_type": "stream",
     "text": [
      "Cluster is available\n"
     ]
    }
   ],
   "source": [
    "# Poll for cluster status every ~30 sec\n",
    "counter = 0\n",
    "while True:\n",
    "    cluster = (\n",
    "        redshift\n",
    "        .describe_clusters(ClusterIdentifier=config.get('CLUSTER', 'CLUSTER_ID'))\n",
    "        ['Clusters'][0]\n",
    "    )\n",
    "    if cluster['ClusterStatus'] == 'available':\n",
    "        print('Cluster is available')\n",
    "        break\n",
    "    else:\n",
    "        counter += 1        \n",
    "        print(f'ClusterStatus after {counter} tries: {cluster[\"ClusterStatus\"]}')\n",
    "        time.sleep(30)"
   ]
  },
  {
   "cell_type": "code",
   "execution_count": 57,
   "metadata": {
    "editable": true
   },
   "outputs": [
    {
     "data": {
      "text/plain": [
       "{'ClusterIdentifier': 'dend-1',\n",
       " 'NodeType': 'dc2.large',\n",
       " 'ClusterStatus': 'available',\n",
       " 'MasterUsername': 'awsuser',\n",
       " 'DBName': 'dend-dwh-project',\n",
       " 'Endpoint': {'Address': 'dend-1.cgepvlalvgqs.us-west-2.redshift.amazonaws.com',\n",
       "  'Port': 5439},\n",
       " 'ClusterCreateTime': datetime.datetime(2020, 10, 9, 18, 20, 11, 95000, tzinfo=tzlocal()),\n",
       " 'AutomatedSnapshotRetentionPeriod': 1,\n",
       " 'ClusterSecurityGroups': [],\n",
       " 'VpcSecurityGroups': [{'VpcSecurityGroupId': 'sg-513e617c',\n",
       "   'Status': 'active'}],\n",
       " 'ClusterParameterGroups': [{'ParameterGroupName': 'default.redshift-1.0',\n",
       "   'ParameterApplyStatus': 'in-sync'}],\n",
       " 'ClusterSubnetGroupName': 'default',\n",
       " 'VpcId': 'vpc-bd0449c5',\n",
       " 'AvailabilityZone': 'us-west-2c',\n",
       " 'PreferredMaintenanceWindow': 'tue:07:00-tue:07:30',\n",
       " 'PendingModifiedValues': {},\n",
       " 'ClusterVersion': '1.0',\n",
       " 'AllowVersionUpgrade': True,\n",
       " 'NumberOfNodes': 4,\n",
       " 'PubliclyAccessible': True,\n",
       " 'Encrypted': False,\n",
       " 'ClusterPublicKey': 'ssh-rsa AAAAB3NzaC1yc2EAAAADAQABAAABAQCwRhr2cJCOdpBPxKPcZXGJzNqhDAfksLe1m8FmT0T0P9kjgHC0snWeqYAq61QM3ljgCWzUteQ2hDX6LzhSjyNBdEv1avrW/wG4+CUsa39GawWb39swhaFK634rwliyqOoJim2iqjaugzbGoYSxiN2Xpd8u2pFUwYWaVNp9Z3iydmgsTl+Ox5fJCaVGIr8rPkqGHzSgbUkx/ku+jOMlryJ9WuNqiiqr9bMuM2nmG1300sA/XIkC4Yl8YZliPNGoPNSggFGW9u0lpbT+WBYWuxvJ99NBEdNWOCMZRpyi7OnqUs5GsqEbguSSOVccRvhCI/eZBY5BGHBFXNkEcla26pu/ Amazon-Redshift\\n',\n",
       " 'ClusterNodes': [{'NodeRole': 'LEADER',\n",
       "   'PrivateIPAddress': '172.31.13.195',\n",
       "   'PublicIPAddress': '44.239.121.204'},\n",
       "  {'NodeRole': 'COMPUTE-0',\n",
       "   'PrivateIPAddress': '172.31.6.17',\n",
       "   'PublicIPAddress': '54.185.41.174'},\n",
       "  {'NodeRole': 'COMPUTE-1',\n",
       "   'PrivateIPAddress': '172.31.5.159',\n",
       "   'PublicIPAddress': '44.240.223.228'},\n",
       "  {'NodeRole': 'COMPUTE-2',\n",
       "   'PrivateIPAddress': '172.31.12.87',\n",
       "   'PublicIPAddress': '54.70.201.81'},\n",
       "  {'NodeRole': 'COMPUTE-3',\n",
       "   'PrivateIPAddress': '172.31.13.18',\n",
       "   'PublicIPAddress': '44.240.140.181'}],\n",
       " 'ClusterRevisionNumber': '19884',\n",
       " 'Tags': [],\n",
       " 'EnhancedVpcRouting': False,\n",
       " 'IamRoles': [{'IamRoleArn': 'arn:aws:iam::826398276231:role/dwhRole',\n",
       "   'ApplyStatus': 'in-sync'}],\n",
       " 'MaintenanceTrackName': 'current',\n",
       " 'ElasticResizeNumberOfNodeOptions': '[2,8]'}"
      ]
     },
     "execution_count": 57,
     "metadata": {},
     "output_type": "execute_result"
    }
   ],
   "source": [
    "cluster"
   ]
  },
  {
   "cell_type": "markdown",
   "metadata": {
    "editable": true
   },
   "source": [
    "## Set TCP port"
   ]
  },
  {
   "cell_type": "code",
   "execution_count": 68,
   "metadata": {
    "editable": true
   },
   "outputs": [],
   "source": [
    "ec2 = boto3.resource(\n",
    "    'ec2',\n",
    "    region_name=\"us-west-2\",\n",
    "    aws_access_key_id=ACCESS_KEY,\n",
    "    aws_secret_access_key=SECRET,\n",
    ")"
   ]
  },
  {
   "cell_type": "code",
   "execution_count": 69,
   "metadata": {
    "editable": true
   },
   "outputs": [],
   "source": [
    "sec_group_id = cluster['VpcSecurityGroups'][0]['VpcSecurityGroupId']\n",
    "sec_group = ec2.SecurityGroup(sec_group_id)"
   ]
  },
  {
   "cell_type": "code",
   "execution_count": 75,
   "metadata": {
    "editable": true
   },
   "outputs": [
    {
     "name": "stdout",
     "output_type": "stream",
     "text": [
      "An error occurred (InvalidPermission.Duplicate) when calling the AuthorizeSecurityGroupIngress operation: the specified rule \"peer: 0.0.0.0/0, TCP, from port: 5439, to port: 5439, ALLOW\" already exists\n"
     ]
    }
   ],
   "source": [
    "try:\n",
    "    sec_group.authorize_ingress(\n",
    "        GroupName=sec_group.group_name,\n",
    "        CidrIp='0.0.0.0/0',\n",
    "        IpProtocol='TCP',\n",
    "        FromPort=int(config.get('CLUSTER', 'DB_PORT')),\n",
    "        ToPort=int(config.get('CLUSTER', 'DB_PORT'))\n",
    "    )\n",
    "except ClientError as e:\n",
    "    print(e)"
   ]
  },
  {
   "cell_type": "markdown",
   "metadata": {
    "editable": true
   },
   "source": [
    "## Save Connection Details\n",
    "\n",
    "This JSON will be used in `create_table.py` and `etl.py` scripts."
   ]
  },
  {
   "cell_type": "code",
   "execution_count": 48,
   "metadata": {
    "editable": true
   },
   "outputs": [],
   "source": [
    "DWH_ENDPOINT = cluster['Endpoint']['Address']\n",
    "DWH_PORT = config.get('CLUSTER', 'DB_PORT')\n",
    "DB_NAME = config.get('CLUSTER', 'DB_NAME')\n",
    "DB_USER = config.get('CLUSTER', 'DB_USER')\n",
    "DB_PASSWORD = config.get('CLUSTER', 'DB_PASSWORD')\n",
    "CONNECTION = f'postgres://{DB_USER}:{DB_PASSWORD}@{DWH_ENDPOINT}:{DWH_PORT}/{DB_NAME}'"
   ]
  },
  {
   "cell_type": "code",
   "execution_count": 49,
   "metadata": {
    "editable": true
   },
   "outputs": [],
   "source": [
    "with open('cluster_details.json', 'w') as f:\n",
    "    json.dump(dict(\n",
    "        connection=CONNECTION,\n",
    "        role_arn=config.get('IAM_ROLE', 'ARN'),\n",
    "    ), f, indent=2)"
   ]
  },
  {
   "cell_type": "markdown",
   "metadata": {
    "editable": true
   },
   "source": [
    "## Delete Cluster"
   ]
  },
  {
   "cell_type": "code",
   "execution_count": 51,
   "metadata": {
    "editable": true
   },
   "outputs": [
    {
     "data": {
      "text/plain": [
       "{'Cluster': {'ClusterIdentifier': 'dend-1',\n",
       "  'NodeType': 'dc2.large',\n",
       "  'ClusterStatus': 'deleting',\n",
       "  'MasterUsername': 'awsuser',\n",
       "  'DBName': 'dend-dwh-project',\n",
       "  'Endpoint': {'Address': 'dend-1.cgepvlalvgqs.us-west-2.redshift.amazonaws.com',\n",
       "   'Port': 5439},\n",
       "  'ClusterCreateTime': datetime.datetime(2020, 10, 9, 18, 20, 11, 95000, tzinfo=tzlocal()),\n",
       "  'AutomatedSnapshotRetentionPeriod': 1,\n",
       "  'ClusterSecurityGroups': [],\n",
       "  'VpcSecurityGroups': [{'VpcSecurityGroupId': 'sg-513e617c',\n",
       "    'Status': 'active'}],\n",
       "  'ClusterParameterGroups': [{'ParameterGroupName': 'default.redshift-1.0',\n",
       "    'ParameterApplyStatus': 'in-sync'}],\n",
       "  'ClusterSubnetGroupName': 'default',\n",
       "  'VpcId': 'vpc-bd0449c5',\n",
       "  'AvailabilityZone': 'us-west-2c',\n",
       "  'PreferredMaintenanceWindow': 'tue:07:00-tue:07:30',\n",
       "  'PendingModifiedValues': {},\n",
       "  'ClusterVersion': '1.0',\n",
       "  'AllowVersionUpgrade': True,\n",
       "  'NumberOfNodes': 4,\n",
       "  'PubliclyAccessible': True,\n",
       "  'Encrypted': False,\n",
       "  'Tags': [],\n",
       "  'EnhancedVpcRouting': False,\n",
       "  'IamRoles': [{'IamRoleArn': 'arn:aws:iam::826398276231:role/dwhRole',\n",
       "    'ApplyStatus': 'in-sync'}],\n",
       "  'MaintenanceTrackName': 'current'},\n",
       " 'ResponseMetadata': {'RequestId': '6ebb3190-8653-4587-ae28-62f6dec9c624',\n",
       "  'HTTPStatusCode': 200,\n",
       "  'HTTPHeaders': {'x-amzn-requestid': '6ebb3190-8653-4587-ae28-62f6dec9c624',\n",
       "   'content-type': 'text/xml',\n",
       "   'content-length': '2387',\n",
       "   'vary': 'accept-encoding',\n",
       "   'date': 'Fri, 09 Oct 2020 18:46:35 GMT'},\n",
       "  'RetryAttempts': 0}}"
      ]
     },
     "execution_count": 51,
     "metadata": {},
     "output_type": "execute_result"
    }
   ],
   "source": [
    "redshift.delete_cluster(\n",
    "    ClusterIdentifier=config.get('CLUSTER', 'CLUSTER_ID'), \n",
    "    SkipFinalClusterSnapshot=True\n",
    ")"
   ]
  }
 ],
 "metadata": {
  "kernelspec": {
   "display_name": "Python 3",
   "language": "python",
   "name": "python3"
  },
  "language_info": {
   "codemirror_mode": {
    "name": "ipython",
    "version": 3
   },
   "file_extension": ".py",
   "mimetype": "text/x-python",
   "name": "python",
   "nbconvert_exporter": "python",
   "pygments_lexer": "ipython3",
   "version": "3.6.3"
  }
 },
 "nbformat": 4,
 "nbformat_minor": 4
}
